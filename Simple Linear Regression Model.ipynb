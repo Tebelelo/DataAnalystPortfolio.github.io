{
 "cells": [
  {
   "cell_type": "code",
   "execution_count": 1,
   "id": "6d22ed1e",
   "metadata": {},
   "outputs": [],
   "source": [
    "import numpy as np\n",
    "import pandas as pd\n",
    "import seaborn as sns\n",
    "import matplotlib.pyplot as plt\n",
    "import warnings\n",
    "warnings.filterwarnings('ignore')\n",
    "%matplotlib inline"
   ]
  },
  {
   "cell_type": "code",
   "execution_count": 2,
   "id": "90b39416",
   "metadata": {},
   "outputs": [
    {
     "data": {
      "text/html": [
       "<div>\n",
       "<style scoped>\n",
       "    .dataframe tbody tr th:only-of-type {\n",
       "        vertical-align: middle;\n",
       "    }\n",
       "\n",
       "    .dataframe tbody tr th {\n",
       "        vertical-align: top;\n",
       "    }\n",
       "\n",
       "    .dataframe thead th {\n",
       "        text-align: right;\n",
       "    }\n",
       "</style>\n",
       "<table border=\"1\" class=\"dataframe\">\n",
       "  <thead>\n",
       "    <tr style=\"text-align: right;\">\n",
       "      <th></th>\n",
       "      <th>Temperature</th>\n",
       "      <th>Ice Cream Profits</th>\n",
       "    </tr>\n",
       "  </thead>\n",
       "  <tbody>\n",
       "    <tr>\n",
       "      <th>0</th>\n",
       "      <td>39</td>\n",
       "      <td>13.17</td>\n",
       "    </tr>\n",
       "    <tr>\n",
       "      <th>1</th>\n",
       "      <td>40</td>\n",
       "      <td>11.88</td>\n",
       "    </tr>\n",
       "    <tr>\n",
       "      <th>2</th>\n",
       "      <td>41</td>\n",
       "      <td>18.82</td>\n",
       "    </tr>\n",
       "    <tr>\n",
       "      <th>3</th>\n",
       "      <td>42</td>\n",
       "      <td>18.65</td>\n",
       "    </tr>\n",
       "    <tr>\n",
       "      <th>4</th>\n",
       "      <td>43</td>\n",
       "      <td>17.02</td>\n",
       "    </tr>\n",
       "  </tbody>\n",
       "</table>\n",
       "</div>"
      ],
      "text/plain": [
       "   Temperature  Ice Cream Profits\n",
       "0           39              13.17\n",
       "1           40              11.88\n",
       "2           41              18.82\n",
       "3           42              18.65\n",
       "4           43              17.02"
      ]
     },
     "execution_count": 2,
     "metadata": {},
     "output_type": "execute_result"
    }
   ],
   "source": [
    "Ice_Cream_Sales = pd.read_csv(\"Ice Cream Sales - temperatures.csv\")\n",
    "Ice_Cream_Sales.head()"
   ]
  },
  {
   "cell_type": "code",
   "execution_count": 12,
   "id": "a8747b94",
   "metadata": {},
   "outputs": [
    {
     "data": {
      "image/png": "[encoded data removed]",
      "text/plain": [
       "<Figure size 432x288 with 1 Axes>"
      ]
     },
     "metadata": {
      "needs_background": "light"
     },
     "output_type": "display_data"
    }
   ],
   "source": [
    "plt.scatter(x = Ice_Cream_Sales['Temperature'], y = Ice_Cream_Sales['Ice Cream Profits'])\n",
    "plt.xlabel('Temperature')\n",
    "plt.ylabel('Profits')\n",
    "plt.show()"
   ]
  },
  {
   "cell_type": "code",
   "execution_count": 13,
   "id": "0280c04c",
   "metadata": {},
   "outputs": [
    {
     "data": {
      "text/html": [
       "<div>\n",
       "<style scoped>\n",
       "    .dataframe tbody tr th:only-of-type {\n",
       "        vertical-align: middle;\n",
       "    }\n",
       "\n",
       "    .dataframe tbody tr th {\n",
       "        vertical-align: top;\n",
       "    }\n",
       "\n",
       "    .dataframe thead th {\n",
       "        text-align: right;\n",
       "    }\n",
       "</style>\n",
       "<table border=\"1\" class=\"dataframe\">\n",
       "  <thead>\n",
       "    <tr style=\"text-align: right;\">\n",
       "      <th></th>\n",
       "      <th>Temperature</th>\n",
       "      <th>Ice Cream Profits</th>\n",
       "    </tr>\n",
       "  </thead>\n",
       "  <tbody>\n",
       "    <tr>\n",
       "      <th>Temperature</th>\n",
       "      <td>1.000000</td>\n",
       "      <td>0.988446</td>\n",
       "    </tr>\n",
       "    <tr>\n",
       "      <th>Ice Cream Profits</th>\n",
       "      <td>0.988446</td>\n",
       "      <td>1.000000</td>\n",
       "    </tr>\n",
       "  </tbody>\n",
       "</table>\n",
       "</div>"
      ],
      "text/plain": [
       "                   Temperature  Ice Cream Profits\n",
       "Temperature           1.000000           0.988446\n",
       "Ice Cream Profits     0.988446           1.000000"
      ]
     },
     "execution_count": 13,
     "metadata": {},
     "output_type": "execute_result"
    }
   ],
   "source": [
    "Ice_Cream_Sales.corr()"
   ]
  },
  {
   "cell_type": "markdown",
   "id": "6ee0fd74",
   "metadata": {},
   "source": [
    "## LINEAR REGRESSION MODEL"
   ]
  },
  {
   "cell_type": "code",
   "execution_count": 14,
   "id": "3d660a6e",
   "metadata": {},
   "outputs": [],
   "source": [
    "from sklearn.model_selection import train_test_split\n",
    "from sklearn import datasets, linear_model, metrics\n"
   ]
  },
  {
   "cell_type": "code",
   "execution_count": 19,
   "id": "a00c9ba9",
   "metadata": {},
   "outputs": [],
   "source": [
    "x = Ice_Cream_Sales['Temperature'].values\n",
    "y = Ice_Cream_Sales['Ice Cream Profits'].values"
   ]
  },
  {
   "cell_type": "code",
   "execution_count": 42,
   "id": "371c2032",
   "metadata": {},
   "outputs": [
    {
     "name": "stdout",
     "output_type": "stream",
     "text": [
      "Training size\n",
      "(219,)\n",
      " \n",
      "Testing size\n",
      "(146,)\n"
     ]
    }
   ],
   "source": [
    "#Splitting Data into Training and Testing Sets\n",
    "x_train, x_test,y_train, y_test = train_test_split(x, y,test_size=0.4, random_state=1)\n",
    "print('Training size')\n",
    "print(y_train.shape)\n",
    "print(\" \")\n",
    "print('Testing size')\n",
    "print(y_test.shape)"
   ]
  },
  {
   "cell_type": "markdown",
   "id": "b500583f",
   "metadata": {},
   "source": [
    "Here it divides the data into training and testing sets using the train_test_split() function from scikit-learn. The test_size parameter specifies that 40% of the data should be used for testing.The random_state is a pseudo-random number parameter that allows you to reproduce the same train test split each time you run the code."
   ]
  },
  {
   "cell_type": "code",
   "execution_count": 44,
   "id": "ed192f6d",
   "metadata": {},
   "outputs": [
    {
     "data": {
      "text/plain": [
       "LinearRegression()"
      ]
     },
     "execution_count": 44,
     "metadata": {},
     "output_type": "execute_result"
    }
   ],
   "source": [
    "#Creating and Training the Linear Regression Model\n",
    "reg_model = linear_model.LinearRegression()\n",
    "reg_model.fit(x_train.reshape(-1,1),y_train.reshape(-1,1))"
   ]
  },
  {
   "cell_type": "code",
   "execution_count": 47,
   "id": "d85a732e",
   "metadata": {},
   "outputs": [
    {
     "name": "stdout",
     "output_type": "stream",
     "text": [
      "Coefficient:  [[1.18719774]]\n",
      "Intercept:  [-33.44588959]\n"
     ]
    }
   ],
   "source": [
    "#Model for training\n",
    "print('Coefficient: ', reg_model.coef_)\n",
    "print('Intercept: ', reg_model.intercept_)"
   ]
  },
  {
   "cell_type": "code",
   "execution_count": 51,
   "id": "9ddc0aa9",
   "metadata": {},
   "outputs": [
    {
     "data": {
      "text/plain": [
       "array([[79.33789525],\n",
       "       [54.40674281],\n",
       "       [52.03234734],\n",
       "       [52.03234734],\n",
       "       [68.65311564],\n",
       "       [71.02751111],\n",
       "       [61.52992922],\n",
       "       [56.78113828],\n",
       "       [78.15069752],\n",
       "       [17.60361302],\n",
       "       [67.4659179 ],\n",
       "       [74.58910431],\n",
       "       [59.15553375],\n",
       "       [42.53476546],\n",
       "       [46.09635867],\n",
       "       [62.71712696],\n",
       "       [84.08668619],\n",
       "       [37.78597452],\n",
       "       [54.40674281],\n",
       "       [72.21470884],\n",
       "       [56.78113828],\n",
       "       [41.34756773],\n",
       "       [60.34273149],\n",
       "       [62.71712696],\n",
       "       [44.90916093],\n",
       "       [54.40674281],\n",
       "       [50.84514961],\n",
       "       [46.09635867],\n",
       "       [60.34273149],\n",
       "       [41.34756773],\n",
       "       [17.60361302],\n",
       "       [47.2835564 ],\n",
       "       [44.90916093],\n",
       "       [50.84514961],\n",
       "       [23.5396017 ],\n",
       "       [79.33789525],\n",
       "       [49.65795187],\n",
       "       [36.59877678],\n",
       "       [44.90916093],\n",
       "       [57.96833602],\n",
       "       [21.16520623],\n",
       "       [23.5396017 ],\n",
       "       [57.96833602],\n",
       "       [42.53476546],\n",
       "       [66.27872016],\n",
       "       [30.66278811],\n",
       "       [72.21470884],\n",
       "       [52.03234734],\n",
       "       [65.09152243],\n",
       "       [54.40674281],\n",
       "       [67.4659179 ],\n",
       "       [36.59877678],\n",
       "       [60.34273149],\n",
       "       [63.90432469],\n",
       "       [22.35240396],\n",
       "       [36.59877678],\n",
       "       [60.34273149],\n",
       "       [54.40674281],\n",
       "       [44.90916093],\n",
       "       [65.09152243],\n",
       "       [60.34273149],\n",
       "       [67.4659179 ],\n",
       "       [18.79081076],\n",
       "       [50.84514961],\n",
       "       [84.08668619],\n",
       "       [41.34756773],\n",
       "       [61.52992922],\n",
       "       [63.90432469],\n",
       "       [53.21954508],\n",
       "       [73.40190658],\n",
       "       [43.7219632 ],\n",
       "       [27.1011949 ],\n",
       "       [65.09152243],\n",
       "       [38.97317225],\n",
       "       [57.96833602],\n",
       "       [60.34273149],\n",
       "       [38.97317225],\n",
       "       [73.40190658],\n",
       "       [79.33789525],\n",
       "       [47.2835564 ],\n",
       "       [57.96833602],\n",
       "       [78.15069752],\n",
       "       [30.66278811],\n",
       "       [43.7219632 ],\n",
       "       [43.7219632 ],\n",
       "       [69.84031337],\n",
       "       [35.41157905],\n",
       "       [21.16520623],\n",
       "       [66.27872016],\n",
       "       [67.4659179 ],\n",
       "       [59.15553375],\n",
       "       [86.46108166],\n",
       "       [80.52509299],\n",
       "       [28.28839264],\n",
       "       [40.16036999],\n",
       "       [35.41157905],\n",
       "       [50.84514961],\n",
       "       [48.47075414],\n",
       "       [66.27872016],\n",
       "       [61.52992922],\n",
       "       [67.4659179 ],\n",
       "       [56.78113828],\n",
       "       [66.27872016],\n",
       "       [47.2835564 ],\n",
       "       [46.09635867],\n",
       "       [48.47075414],\n",
       "       [38.97317225],\n",
       "       [41.34756773],\n",
       "       [57.96833602],\n",
       "       [69.84031337],\n",
       "       [57.96833602],\n",
       "       [55.59394055],\n",
       "       [47.2835564 ],\n",
       "       [23.5396017 ],\n",
       "       [25.91399717],\n",
       "       [62.71712696],\n",
       "       [57.96833602],\n",
       "       [44.90916093],\n",
       "       [33.03718358],\n",
       "       [42.53476546],\n",
       "       [44.90916093],\n",
       "       [19.97800849],\n",
       "       [49.65795187],\n",
       "       [23.5396017 ],\n",
       "       [44.90916093],\n",
       "       [57.96833602],\n",
       "       [12.85482208],\n",
       "       [52.03234734],\n",
       "       [43.7219632 ],\n",
       "       [67.4659179 ],\n",
       "       [52.03234734],\n",
       "       [37.78597452],\n",
       "       [30.66278811],\n",
       "       [50.84514961],\n",
       "       [75.77630205],\n",
       "       [30.66278811],\n",
       "       [54.40674281],\n",
       "       [67.4659179 ],\n",
       "       [53.21954508],\n",
       "       [50.84514961],\n",
       "       [59.15553375],\n",
       "       [65.09152243],\n",
       "       [52.03234734],\n",
       "       [50.84514961],\n",
       "       [42.53476546],\n",
       "       [29.47559037]])"
      ]
     },
     "execution_count": 51,
     "metadata": {},
     "output_type": "execute_result"
    }
   ],
   "source": [
    "#Evaluating the model\n",
    "reg_model.predict(x_test.reshape(-1,1))"
   ]
  },
  {
   "cell_type": "code",
   "execution_count": 75,
   "id": "35a6391b",
   "metadata": {},
   "outputs": [
    {
     "name": "stdout",
     "output_type": "stream",
     "text": [
      "[80.98 55.28 51.26 50.79 69.66 69.67 63.46 59.41 80.94 15.88 61.82 81.81\n",
      " 61.22 44.85 48.65 62.32 87.08 40.95 54.36 71.51 59.69 39.17 59.69 62.36\n",
      " 48.26 50.65 46.74 45.26 59.93 41.58 17.02 49.37 45.07 49.6  26.41 80.75\n",
      " 52.67 37.5  40.65 57.47 21.25 25.01 60.86 40.28 68.54 31.94 73.16 51.55\n",
      " 63.29 50.64 64.31 36.71 64.82 64.97 22.12 29.69 67.42 54.28 45.05 64.38\n",
      " 59.49 67.93 19.07 55.04 89.29 40.59 61.82 66.15 51.82 75.11 42.1  21.93\n",
      " 62.58 39.53 56.33 61.71 38.16 75.94 78.2  45.89 56.33 75.7  33.58 45.38\n",
      " 43.28 70.43 36.11 19.81 65.41 65.99 60.89 85.02 82.83 30.67 40.19 35.13\n",
      " 52.17 48.77 65.12 61.59 68.28 56.59 65.4  47.73 44.85 42.5  39.42 44.15\n",
      " 56.43 68.   55.07 55.34 47.35 24.22 25.68 62.12 58.72 42.16 33.22 40.57\n",
      " 46.74 22.34 49.12 23.78 47.36 59.87 13.17 48.96 42.72 70.3  53.57 36.25\n",
      " 30.09 54.59 77.41 33.71 55.52 69.71 53.21 53.77 57.93 60.78 53.59 53.04\n",
      " 44.1  32.6 ]\n"
     ]
    }
   ],
   "source": [
    "print(y_test)"
   ]
  },
  {
   "cell_type": "code",
   "execution_count": 52,
   "id": "4f599f06",
   "metadata": {},
   "outputs": [
    {
     "data": {
      "text/plain": [
       "0.9801811291503565"
      ]
     },
     "execution_count": 52,
     "metadata": {},
     "output_type": "execute_result"
    }
   ],
   "source": [
    "#Testing Model accuracy\n",
    "reg_model.score(x_test.reshape(-1,1) ,y_test.reshape(-1,1))"
   ]
  },
  {
   "cell_type": "markdown",
   "id": "ecbfc694",
   "metadata": {},
   "source": [
    "Evaluating the model’s performance by printing the regression coefficients and calculating the variance score, which measures the proportion of explained variance. The model.score automates the prediction of your data using X_test and compares it with Y_test and by default uses the R-squared metric to so. A score of 1 indicates perfect prediction.\n",
    "\n",
    "Therefore the accuracy of the model is 98%."
   ]
  },
  {
   "cell_type": "code",
   "execution_count": null,
   "id": "2f9b4db7",
   "metadata": {},
   "outputs": [],
   "source": []
  }
 ],
 "metadata": {
  "kernelspec": {
   "display_name": "Python 3 (ipykernel)",
   "language": "python",
   "name": "python3"
  },
  "language_info": {
   "codemirror_mode": {
    "name": "ipython",
    "version": 3
   },
   "file_extension": ".py",
   "mimetype": "text/x-python",
   "name": "python",
   "nbconvert_exporter": "python",
   "pygments_lexer": "ipython3",
   "version": "3.9.12"
  }
 },
 "nbformat": 4,
 "nbformat_minor": 5
}
