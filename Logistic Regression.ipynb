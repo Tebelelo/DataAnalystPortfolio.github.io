{
 "cells": [
  {
   "cell_type": "code",
   "execution_count": 1,
   "id": "4ecedff4",
   "metadata": {},
   "outputs": [],
   "source": [
    "from sklearn.linear_model import LogisticRegression\n",
    "from sklearn.model_selection import train_test_split\n",
    "from sklearn.metrics import accuracy_score\n",
    "import pandas as pd"
   ]
  },
  {
   "cell_type": "code",
   "execution_count": 2,
   "id": "36cad635",
   "metadata": {},
   "outputs": [
    {
     "data": {
      "text/html": [
       "<div>\n",
       "<style scoped>\n",
       "    .dataframe tbody tr th:only-of-type {\n",
       "        vertical-align: middle;\n",
       "    }\n",
       "\n",
       "    .dataframe tbody tr th {\n",
       "        vertical-align: top;\n",
       "    }\n",
       "\n",
       "    .dataframe thead th {\n",
       "        text-align: right;\n",
       "    }\n",
       "</style>\n",
       "<table border=\"1\" class=\"dataframe\">\n",
       "  <thead>\n",
       "    <tr style=\"text-align: right;\">\n",
       "      <th></th>\n",
       "      <th>User ID</th>\n",
       "      <th>Gender</th>\n",
       "      <th>Age</th>\n",
       "      <th>AnnualSalary</th>\n",
       "      <th>Purchased</th>\n",
       "    </tr>\n",
       "  </thead>\n",
       "  <tbody>\n",
       "    <tr>\n",
       "      <th>0</th>\n",
       "      <td>385</td>\n",
       "      <td>Male</td>\n",
       "      <td>35</td>\n",
       "      <td>20000</td>\n",
       "      <td>0</td>\n",
       "    </tr>\n",
       "    <tr>\n",
       "      <th>1</th>\n",
       "      <td>681</td>\n",
       "      <td>Male</td>\n",
       "      <td>40</td>\n",
       "      <td>43500</td>\n",
       "      <td>0</td>\n",
       "    </tr>\n",
       "    <tr>\n",
       "      <th>2</th>\n",
       "      <td>353</td>\n",
       "      <td>Male</td>\n",
       "      <td>49</td>\n",
       "      <td>74000</td>\n",
       "      <td>0</td>\n",
       "    </tr>\n",
       "    <tr>\n",
       "      <th>3</th>\n",
       "      <td>895</td>\n",
       "      <td>Male</td>\n",
       "      <td>40</td>\n",
       "      <td>107500</td>\n",
       "      <td>1</td>\n",
       "    </tr>\n",
       "    <tr>\n",
       "      <th>4</th>\n",
       "      <td>661</td>\n",
       "      <td>Male</td>\n",
       "      <td>25</td>\n",
       "      <td>79000</td>\n",
       "      <td>0</td>\n",
       "    </tr>\n",
       "  </tbody>\n",
       "</table>\n",
       "</div>"
      ],
      "text/plain": [
       "   User ID Gender  Age  AnnualSalary  Purchased\n",
       "0      385   Male   35         20000          0\n",
       "1      681   Male   40         43500          0\n",
       "2      353   Male   49         74000          0\n",
       "3      895   Male   40        107500          1\n",
       "4      661   Male   25         79000          0"
      ]
     },
     "execution_count": 2,
     "metadata": {},
     "output_type": "execute_result"
    }
   ],
   "source": [
    "orders = pd.read_csv('car_data.csv')\n",
    "orders.head()"
   ]
  },
  {
   "cell_type": "markdown",
   "id": "01124385",
   "metadata": {},
   "source": [
    "This dataset contains details of 1000 customers who intend to buy a car, considering their annual salaries, gender and age\n",
    "\n",
    "Purchase Decision (No = 0; Yes = 1)"
   ]
  },
  {
   "cell_type": "code",
   "execution_count": 6,
   "id": "140b3ef1",
   "metadata": {},
   "outputs": [
    {
     "data": {
      "text/plain": [
       "Female    516\n",
       "Male      484\n",
       "Name: Gender, dtype: int64"
      ]
     },
     "execution_count": 6,
     "metadata": {},
     "output_type": "execute_result"
    }
   ],
   "source": [
    "orders['Gender'].value_counts()"
   ]
  },
  {
   "cell_type": "code",
   "execution_count": 8,
   "id": "4c0d1f18",
   "metadata": {},
   "outputs": [],
   "source": [
    "#replacing Gender with dummy variable. Female = 0, Male = 1\n",
    "orders['Gender'] = orders['Gender'].str.replace('Female', '0')\n",
    "orders['Gender'] = orders['Gender'].str.replace('Male', '1')"
   ]
  },
  {
   "cell_type": "code",
   "execution_count": 13,
   "id": "52a17cf4",
   "metadata": {},
   "outputs": [],
   "source": [
    "#converting Gender from str to int64\n",
    "orders['Gender'] = orders['Gender'].astype('int64')"
   ]
  },
  {
   "cell_type": "markdown",
   "id": "285b3848",
   "metadata": {},
   "source": [
    "# LOGISTIC REGRESSION"
   ]
  },
  {
   "cell_type": "code",
   "execution_count": 15,
   "id": "632a2a99",
   "metadata": {},
   "outputs": [
    {
     "data": {
      "text/html": [
       "<div>\n",
       "<style scoped>\n",
       "    .dataframe tbody tr th:only-of-type {\n",
       "        vertical-align: middle;\n",
       "    }\n",
       "\n",
       "    .dataframe tbody tr th {\n",
       "        vertical-align: top;\n",
       "    }\n",
       "\n",
       "    .dataframe thead th {\n",
       "        text-align: right;\n",
       "    }\n",
       "</style>\n",
       "<table border=\"1\" class=\"dataframe\">\n",
       "  <thead>\n",
       "    <tr style=\"text-align: right;\">\n",
       "      <th></th>\n",
       "      <th>User ID</th>\n",
       "      <th>Gender</th>\n",
       "      <th>Age</th>\n",
       "      <th>AnnualSalary</th>\n",
       "      <th>Purchased</th>\n",
       "    </tr>\n",
       "  </thead>\n",
       "  <tbody>\n",
       "    <tr>\n",
       "      <th>0</th>\n",
       "      <td>385</td>\n",
       "      <td>1</td>\n",
       "      <td>35</td>\n",
       "      <td>20000</td>\n",
       "      <td>0</td>\n",
       "    </tr>\n",
       "    <tr>\n",
       "      <th>1</th>\n",
       "      <td>681</td>\n",
       "      <td>1</td>\n",
       "      <td>40</td>\n",
       "      <td>43500</td>\n",
       "      <td>0</td>\n",
       "    </tr>\n",
       "    <tr>\n",
       "      <th>2</th>\n",
       "      <td>353</td>\n",
       "      <td>1</td>\n",
       "      <td>49</td>\n",
       "      <td>74000</td>\n",
       "      <td>0</td>\n",
       "    </tr>\n",
       "    <tr>\n",
       "      <th>3</th>\n",
       "      <td>895</td>\n",
       "      <td>1</td>\n",
       "      <td>40</td>\n",
       "      <td>107500</td>\n",
       "      <td>1</td>\n",
       "    </tr>\n",
       "    <tr>\n",
       "      <th>4</th>\n",
       "      <td>661</td>\n",
       "      <td>1</td>\n",
       "      <td>25</td>\n",
       "      <td>79000</td>\n",
       "      <td>0</td>\n",
       "    </tr>\n",
       "  </tbody>\n",
       "</table>\n",
       "</div>"
      ],
      "text/plain": [
       "   User ID  Gender  Age  AnnualSalary  Purchased\n",
       "0      385       1   35         20000          0\n",
       "1      681       1   40         43500          0\n",
       "2      353       1   49         74000          0\n",
       "3      895       1   40        107500          1\n",
       "4      661       1   25         79000          0"
      ]
     },
     "execution_count": 15,
     "metadata": {},
     "output_type": "execute_result"
    }
   ],
   "source": [
    "orders.head()"
   ]
  },
  {
   "cell_type": "code",
   "execution_count": 17,
   "id": "c819548c",
   "metadata": {},
   "outputs": [
    {
     "name": "stdout",
     "output_type": "stream",
     "text": [
      "     Gender  Age  AnnualSalary\n",
      "0         1   35         20000\n",
      "1         1   40         43500\n",
      "2         1   49         74000\n",
      "3         1   40        107500\n",
      "4         1   25         79000\n",
      "..      ...  ...           ...\n",
      "995       1   38         59000\n",
      "996       0   47         23500\n",
      "997       0   28        138500\n",
      "998       0   48        134000\n",
      "999       0   44         73500\n",
      "\n",
      "[1000 rows x 3 columns]\n",
      "     Purchased\n",
      "0            0\n",
      "1            0\n",
      "2            0\n",
      "3            1\n",
      "4            0\n",
      "..         ...\n",
      "995          0\n",
      "996          0\n",
      "997          1\n",
      "998          1\n",
      "999          0\n",
      "\n",
      "[1000 rows x 1 columns]\n"
     ]
    }
   ],
   "source": [
    "#independents variable(x) = [Gender,Age,AnnualSalary]\n",
    "#Dependent(Y) = Purchased\n",
    "xs = ['Gender','Age', 'AnnualSalary']\n",
    "x = orders.loc[: , xs]\n",
    "y = orders.loc[:,['Purchased']]\n",
    "print(x)\n",
    "print(y)"
   ]
  },
  {
   "cell_type": "code",
   "execution_count": 18,
   "id": "917ff003",
   "metadata": {},
   "outputs": [],
   "source": [
    "# split the train and test dataset\n",
    "x_train, x_test,y_train, y_test = train_test_split(x, y,test_size=0.20,random_state=23)"
   ]
  },
  {
   "cell_type": "code",
   "execution_count": 19,
   "id": "a44055d4",
   "metadata": {},
   "outputs": [
    {
     "name": "stderr",
     "output_type": "stream",
     "text": [
      "C:\\Users\\Tebelelo\\anaconda3\\lib\\site-packages\\sklearn\\utils\\validation.py:993: DataConversionWarning: A column-vector y was passed when a 1d array was expected. Please change the shape of y to (n_samples, ), for example using ravel().\n",
      "  y = column_or_1d(y, warn=True)\n"
     ]
    },
    {
     "data": {
      "text/plain": [
       "LogisticRegression(random_state=0)"
      ]
     },
     "execution_count": 19,
     "metadata": {},
     "output_type": "execute_result"
    }
   ],
   "source": [
    "#training and creating a model\n",
    "model = LogisticRegression(random_state=0)\n",
    "model.fit(x_train, y_train)"
   ]
  },
  {
   "cell_type": "code",
   "execution_count": 20,
   "id": "e00db4dd",
   "metadata": {},
   "outputs": [],
   "source": [
    "#Testing the model\n",
    "y_pred = model.predict(x_test)\n"
   ]
  },
  {
   "cell_type": "code",
   "execution_count": 22,
   "id": "49730f75",
   "metadata": {},
   "outputs": [
    {
     "name": "stdout",
     "output_type": "stream",
     "text": [
      "The accuracy of the model using all independent variables is : 61.5 %\n"
     ]
    }
   ],
   "source": [
    "#Evaluating the model accuracy\n",
    "accuracy_level = accuracy_score(y_test,y_pred)\n",
    "print('The accuracy of the model using all independent variables is :',accuracy_level*100,'%')"
   ]
  },
  {
   "cell_type": "markdown",
   "id": "d58c7af6",
   "metadata": {},
   "source": [
    "# Using Gender to classify Purchased"
   ]
  },
  {
   "cell_type": "code",
   "execution_count": 23,
   "id": "a7ab65ad",
   "metadata": {},
   "outputs": [],
   "source": [
    "x1 = orders.loc[: ,['Gender']]\n",
    "y1 = orders.loc[: , ['Purchased']]"
   ]
  },
  {
   "cell_type": "code",
   "execution_count": 24,
   "id": "2a2385ca",
   "metadata": {},
   "outputs": [],
   "source": [
    "#splitting into train and test\n",
    "x1_train,x1_test,y1_train,y1_test = train_test_split(x1,y1,test_size = 0.20,random_state = 23)"
   ]
  },
  {
   "cell_type": "code",
   "execution_count": 25,
   "id": "fce9be72",
   "metadata": {},
   "outputs": [
    {
     "name": "stderr",
     "output_type": "stream",
     "text": [
      "C:\\Users\\Tebelelo\\anaconda3\\lib\\site-packages\\sklearn\\utils\\validation.py:993: DataConversionWarning: A column-vector y was passed when a 1d array was expected. Please change the shape of y to (n_samples, ), for example using ravel().\n",
      "  y = column_or_1d(y, warn=True)\n"
     ]
    },
    {
     "data": {
      "text/plain": [
       "LogisticRegression(random_state=0)"
      ]
     },
     "execution_count": 25,
     "metadata": {},
     "output_type": "execute_result"
    }
   ],
   "source": [
    "#creating and training the model\n",
    "model1 = LogisticRegression(random_state = 0)\n",
    "model1.fit(x_train,y_train)"
   ]
  },
  {
   "cell_type": "code",
   "execution_count": 27,
   "id": "b17e1734",
   "metadata": {},
   "outputs": [],
   "source": [
    "#Testing the model\n",
    "y1_pred = model1.predict(x_test)"
   ]
  },
  {
   "cell_type": "code",
   "execution_count": 51,
   "id": "929bf782",
   "metadata": {},
   "outputs": [
    {
     "name": "stdout",
     "output_type": "stream",
     "text": [
      "The accuracy of the model using all independent variables is : 61.5 %\n"
     ]
    }
   ],
   "source": [
    "#Evaluating the model accuracy\n",
    "accuracy_level1 = accuracy_score(y1_test,y1_pred)\n",
    "print('The accuracy of the model using all independent variables is :',accuracy_level1*100,'%')"
   ]
  },
  {
   "cell_type": "markdown",
   "id": "5a1e1fad",
   "metadata": {},
   "source": [
    "# Using Age to classify the Purchased"
   ]
  },
  {
   "cell_type": "code",
   "execution_count": 39,
   "id": "cdec8b37",
   "metadata": {},
   "outputs": [],
   "source": [
    "x2 = orders.loc[:,['Age']]\n",
    "y2 = orders.loc[:,['Purchased']]"
   ]
  },
  {
   "cell_type": "code",
   "execution_count": 40,
   "id": "f06348bd",
   "metadata": {},
   "outputs": [],
   "source": [
    "x2_train,x2_test,y2_train,y2_test = train_test_split(x2,y2,test_size = 0.30,random_state = 13)"
   ]
  },
  {
   "cell_type": "code",
   "execution_count": 41,
   "id": "c6996806",
   "metadata": {},
   "outputs": [
    {
     "name": "stderr",
     "output_type": "stream",
     "text": [
      "C:\\Users\\Tebelelo\\anaconda3\\lib\\site-packages\\sklearn\\utils\\validation.py:993: DataConversionWarning: A column-vector y was passed when a 1d array was expected. Please change the shape of y to (n_samples, ), for example using ravel().\n",
      "  y = column_or_1d(y, warn=True)\n"
     ]
    },
    {
     "data": {
      "text/plain": [
       "LogisticRegression(random_state=0)"
      ]
     },
     "execution_count": 41,
     "metadata": {},
     "output_type": "execute_result"
    }
   ],
   "source": [
    "model2 = LogisticRegression(random_state = 0)\n",
    "model2.fit(x2_train,y2_train)"
   ]
  },
  {
   "cell_type": "code",
   "execution_count": 42,
   "id": "1212f678",
   "metadata": {},
   "outputs": [],
   "source": [
    "y2_pred = model2.predict(x2_test)"
   ]
  },
  {
   "cell_type": "code",
   "execution_count": 50,
   "id": "67342042",
   "metadata": {},
   "outputs": [
    {
     "name": "stdout",
     "output_type": "stream",
     "text": [
      "The accuracy of the model based on Age is : 81.0 %\n"
     ]
    }
   ],
   "source": [
    "#Evaluating the model accuracy\n",
    "accuracy_level2 = accuracy_score(y2_test,y2_pred)\n",
    "print('The accuracy of the model based on Age is :',accuracy_level2*100,'%')"
   ]
  },
  {
   "cell_type": "markdown",
   "id": "c5a5274d",
   "metadata": {},
   "source": [
    "# Annual Salary"
   ]
  },
  {
   "cell_type": "code",
   "execution_count": 44,
   "id": "7c79ba78",
   "metadata": {},
   "outputs": [],
   "source": [
    "x3 = orders.loc[:,['AnnualSalary']]\n",
    "y3 = orders.loc[:,['Purchased']]"
   ]
  },
  {
   "cell_type": "code",
   "execution_count": 45,
   "id": "6d5252aa",
   "metadata": {},
   "outputs": [],
   "source": [
    "x3_train,x3_test,y3_train,y3_test = train_test_split(x3,y3,test_size = 0.30,random_state = 13)"
   ]
  },
  {
   "cell_type": "code",
   "execution_count": 46,
   "id": "45f554b9",
   "metadata": {},
   "outputs": [
    {
     "name": "stderr",
     "output_type": "stream",
     "text": [
      "C:\\Users\\Tebelelo\\anaconda3\\lib\\site-packages\\sklearn\\utils\\validation.py:993: DataConversionWarning: A column-vector y was passed when a 1d array was expected. Please change the shape of y to (n_samples, ), for example using ravel().\n",
      "  y = column_or_1d(y, warn=True)\n"
     ]
    },
    {
     "data": {
      "text/plain": [
       "LogisticRegression(random_state=0)"
      ]
     },
     "execution_count": 46,
     "metadata": {},
     "output_type": "execute_result"
    }
   ],
   "source": [
    "model3 = LogisticRegression(random_state = 0)\n",
    "model3.fit(x3_train,y3_train)"
   ]
  },
  {
   "cell_type": "code",
   "execution_count": 48,
   "id": "f92c07d4",
   "metadata": {},
   "outputs": [],
   "source": [
    "y3_pred = model3.predict(x3_test)"
   ]
  },
  {
   "cell_type": "code",
   "execution_count": 49,
   "id": "af6f4ec3",
   "metadata": {},
   "outputs": [
    {
     "name": "stdout",
     "output_type": "stream",
     "text": [
      "The accuracy of the model based on Age is : 35.0 %\n"
     ]
    }
   ],
   "source": [
    "accuracy_level3 = accuracy_score(y3_test,y3_pred)\n",
    "print('The accuracy of the model based on Age is :',accuracy_level3*100,'%')"
   ]
  },
  {
   "cell_type": "markdown",
   "id": "486f26ad",
   "metadata": {},
   "source": [
    "Therefore Age is a good classifier of car purchases since the model accuracy is 81% than both Annual Salary(35%) and Gender(65%)"
   ]
  },
  {
   "cell_type": "code",
   "execution_count": null,
   "id": "fd9c33c6",
   "metadata": {},
   "outputs": [],
   "source": []
  }
 ],
 "metadata": {
  "kernelspec": {
   "display_name": "Python 3 (ipykernel)",
   "language": "python",
   "name": "python3"
  },
  "language_info": {
   "codemirror_mode": {
    "name": "ipython",
    "version": 3
   },
   "file_extension": ".py",
   "mimetype": "text/x-python",
   "name": "python",
   "nbconvert_exporter": "python",
   "pygments_lexer": "ipython3",
   "version": "3.9.12"
  }
 },
 "nbformat": 4,
 "nbformat_minor": 5
}
